{
 "cells": [
  {
   "cell_type": "code",
   "execution_count": 3,
   "id": "21e46298",
   "metadata": {},
   "outputs": [],
   "source": [
    "import pickle"
   ]
  },
  {
   "cell_type": "code",
   "execution_count": 4,
   "id": "bd553984",
   "metadata": {},
   "outputs": [],
   "source": [
    "class Run:\n",
    "    def __init__(self, run):\n",
    "        self.seed: int = None\n",
    "        self.config: dict = None\n",
    "        self.measures: dict = None\n",
    "\n",
    "        self.final_test_acc: float = None\n",
    "        self.final_train_acc: float = None"
   ]
  },
  {
   "cell_type": "code",
   "execution_count": 6,
   "id": "273fbd00",
   "metadata": {},
   "outputs": [],
   "source": [
    "with open(\"all-0.pickle\", \"rb\") as f:\n",
    "    runs = pickle.load(f)"
   ]
  },
  {
   "cell_type": "raw",
   "id": "62c21322",
   "metadata": {},
   "source": []
  }
 ],
 "metadata": {
  "kernelspec": {
   "display_name": "Python 3 (ipykernel)",
   "language": "python",
   "name": "python3"
  },
  "language_info": {
   "codemirror_mode": {
    "name": "ipython",
    "version": 3
   },
   "file_extension": ".py",
   "mimetype": "text/x-python",
   "name": "python",
   "nbconvert_exporter": "python",
   "pygments_lexer": "ipython3",
   "version": "3.8.8"
  }
 },
 "nbformat": 4,
 "nbformat_minor": 5
}
