{
 "cells": [
  {
   "cell_type": "code",
   "execution_count": 3,
   "id": "fd745495",
   "metadata": {},
   "outputs": [],
   "source": [
    "import pickle"
   ]
  },
  {
   "cell_type": "code",
   "execution_count": 4,
   "id": "5676677b",
   "metadata": {},
   "outputs": [],
   "source": [
    "class Run:\n",
    "    def __init__(self, run):\n",
    "        self.seed: int = None\n",
    "        self.config: dict = None\n",
    "        self.measures: dict = None\n",
    "\n",
    "        self.final_test_acc: float = None\n",
    "        self.final_train_acc: float = None"
   ]
  },
  {
   "cell_type": "code",
   "execution_count": 6,
   "id": "8e91c899",
   "metadata": {},
   "outputs": [],
   "source": [
    "with open(\"all-0.pickle\", \"rb\") as f:\n",
    "    runs = pickle.load(f)"
   ]
  },
  {
   "cell_type": "raw",
   "id": "5f651315",
   "metadata": {},
   "source": [
    "runs[0]"
   ]
  },
  {
   "cell_type": "code",
   "execution_count": 7,
   "id": "9f544809",
   "metadata": {},
   "outputs": [
    {
     "data": {
      "text/plain": [
       "<__main__.Run at 0x7fd965d8de80>"
      ]
     },
     "execution_count": 7,
     "metadata": {},
     "output_type": "execute_result"
    }
   ],
   "source": [
    "runs[0]"
   ]
  },
  {
   "cell_type": "code",
   "execution_count": 8,
   "id": "405024c4",
   "metadata": {},
   "outputs": [
    {
     "data": {
      "text/plain": [
       "{'lr': 0.01,\n",
       " 'batch_norm': True,\n",
       " 'batch_size': 32,\n",
       " 'model_depth': 5,\n",
       " 'dropout_prob': 0.3}"
      ]
     },
     "execution_count": 8,
     "metadata": {},
     "output_type": "execute_result"
    }
   ],
   "source": [
    "runs[0].config"
   ]
  },
  {
   "cell_type": "code",
   "execution_count": null,
   "id": "2cdc0e00",
   "metadata": {},
   "outputs": [],
   "source": []
  }
 ],
 "metadata": {
  "kernelspec": {
   "display_name": "Python 3 (ipykernel)",
   "language": "python",
   "name": "python3"
  },
  "language_info": {
   "codemirror_mode": {
    "name": "ipython",
    "version": 3
   },
   "file_extension": ".py",
   "mimetype": "text/x-python",
   "name": "python",
   "nbconvert_exporter": "python",
   "pygments_lexer": "ipython3",
   "version": "3.8.8"
  }
 },
 "nbformat": 4,
 "nbformat_minor": 5
}
